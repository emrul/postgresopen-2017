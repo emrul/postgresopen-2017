{
 "cells": [
  {
   "cell_type": "markdown",
   "metadata": {},
   "source": [
    "## Imports and dependencies"
   ]
  },
  {
   "cell_type": "code",
   "execution_count": 1,
   "metadata": {},
   "outputs": [],
   "source": [
    "%matplotlib inline\n",
    "import psycopg2\n",
    "import pandas as pd\n",
    "import pandas.io.sql as psql\n",
    "import configparser\n",
    "import os\n",
    "import IPython\n",
    "from IPython.display import display\n",
    "from IPython.display import HTML\n",
    "#Maximum height of a result set\n",
    "pd.set_option('display.max_rows', 500)\n",
    "#Maximum number of rows to display in a cell.\n",
    "pd.set_option('display.max_columns', 100)\n",
    "#Show the full content of columns\n",
    "pd.set_option('display.max_colwidth', -1)"
   ]
  },
  {
   "cell_type": "markdown",
   "metadata": {},
   "source": [
    "## Setting up database connectivity"
   ]
  },
  {
   "cell_type": "markdown",
   "metadata": {},
   "source": [
    "Create a file in your home directory containing the database credentials for your target environment. \n",
    "\n",
    "For example:\n",
    "```\n",
    "vatsan@vatsan-ubuntu:~/code/postgresopen-2017$ vim ~/.dbuser.cred\n",
    "```\n",
    "\n",
    "The content of this file should look like so (with appropriate values for HOSTNAME, PORT, USER, DATABASE & PASSWORD).\n",
    "```\n",
    "[database_creds]\n",
    "host: HOSTNAME\n",
    "port: PORT\n",
    "user: USER\n",
    "database: DATABASE\n",
    "password: PASSWORD\n",
    "```\n",
    "Please set the permissions of this file to u+rwx (700), so that only you can access this file.\n",
    "```\n",
    "vatsan@vatsan-ubuntu:~/code/postgresopen-2017$ chmod 700 ~/.dbuser.cred\n",
    "```\n",
    "\n",
    "You should see the following:\n",
    "\n",
    "```\n",
    "vatsan@vatsan-ubuntu:~/code/postgresopen-2017$ ls -l ~/.dbuser.cred \n",
    "-rwx------ 1 vatsan vatsan 93 Sep  3 00:00 /home/vatsan/.dbuser.cred\n",
    "```"
   ]
  },
  {
   "cell_type": "markdown",
   "metadata": {},
   "source": [
    "## Creating database connection string"
   ]
  },
  {
   "cell_type": "code",
   "execution_count": 2,
   "metadata": {
    "collapsed": true
   },
   "outputs": [],
   "source": [
    "USER_CRED_FILE = os.path.join(os.path.expanduser('~'), '.dbuser.cred')\n",
    "def fetchDBCredentials(dbcred_file=USER_CRED_FILE):\n",
    "    \"\"\"\n",
    "       Read database access credentials from the file in $HOME/.dbuser.cred\n",
    "    \"\"\"\n",
    "    #Read database credentials from user supplied file\n",
    "    conf = configparser.ConfigParser()\n",
    "    conf.read(dbcred_file)\n",
    "    #host, port, user, database, password\n",
    "    host = conf.get('database_creds','host')\n",
    "    port = conf.get('database_creds','port')\n",
    "    user = conf.get('database_creds','user')\n",
    "    database = conf.get('database_creds','database')\n",
    "    password = conf.get('database_creds','password')\n",
    "\n",
    "    #Initialize connection string\n",
    "    conn_str =  \"\"\"dbname='{database}' user='{user}' host='{host}' port='{port}' password='{password}'\"\"\".format(                       \n",
    "                    database=database,\n",
    "                    host=host,\n",
    "                    port=port,\n",
    "                    user=user,\n",
    "                    password=password\n",
    "            )\n",
    "    return conn_str"
   ]
  },
  {
   "cell_type": "markdown",
   "metadata": {},
   "source": [
    "## Create a connection object to the database"
   ]
  },
  {
   "cell_type": "code",
   "execution_count": 3,
   "metadata": {},
   "outputs": [],
   "source": [
    "conn = psycopg2.connect(fetchDBCredentials())"
   ]
  },
  {
   "cell_type": "markdown",
   "metadata": {},
   "source": [
    "## Define magic commands to run SQL inline"
   ]
  },
  {
   "cell_type": "code",
   "execution_count": 4,
   "metadata": {
    "collapsed": true
   },
   "outputs": [],
   "source": [
    "from IPython.core.magic import (register_line_magic, register_cell_magic,\n",
    "                                register_line_cell_magic)\n",
    "\n",
    "@register_cell_magic\n",
    "def showsql(line, cell):\n",
    "    \"\"\"\n",
    "        Extract the code in the specific cell (should be valid SQL), and execute\n",
    "        it using the connection object to the backend database. \n",
    "        The resulting Pandas dataframe\n",
    "        is rendered inline below the cell using IPython.display.\n",
    "        You'd use this for SELECT\n",
    "    \"\"\"\n",
    "    #Use the global connection object defined above.\n",
    "    global conn\n",
    "    _ = psql.read_sql(cell, conn)\n",
    "    conn.commit()\n",
    "    display(_)\n",
    "    return\n",
    "    \n",
    "@register_cell_magic\n",
    "def execsql(line, cell):\n",
    "    \"\"\"\n",
    "        Extract the code in the specific cell (should be valid SQL), and execute\n",
    "        it using the connection object to the backend database. \n",
    "        You'd use this for CREATE/UPDATE/DELETE\n",
    "    \"\"\"\n",
    "    #Use the global connection object defined above.\n",
    "    global conn\n",
    "    _ = psql.execute(cell, conn)\n",
    "    conn.commit()\n",
    "    return\n",
    "\n",
    "# We delete these to avoid name conflicts for automagic to work\n",
    "del execsql, showsql"
   ]
  },
  {
   "cell_type": "markdown",
   "metadata": {
    "collapsed": true
   },
   "source": [
    "## Test your connection to the database"
   ]
  },
  {
   "cell_type": "markdown",
   "metadata": {},
   "source": [
    "You can use the `showsql` magic command we defined above for DML commands"
   ]
  },
  {
   "cell_type": "code",
   "execution_count": 5,
   "metadata": {},
   "outputs": [
    {
     "data": {
      "text/html": [
       "<div>\n",
       "<style>\n",
       "    .dataframe thead tr:only-child th {\n",
       "        text-align: right;\n",
       "    }\n",
       "\n",
       "    .dataframe thead th {\n",
       "        text-align: left;\n",
       "    }\n",
       "\n",
       "    .dataframe tbody tr th {\n",
       "        vertical-align: top;\n",
       "    }\n",
       "</style>\n",
       "<table border=\"1\" class=\"dataframe\">\n",
       "  <thead>\n",
       "    <tr style=\"text-align: right;\">\n",
       "      <th></th>\n",
       "      <th>x</th>\n",
       "      <th>y</th>\n",
       "    </tr>\n",
       "  </thead>\n",
       "  <tbody>\n",
       "    <tr>\n",
       "      <th>0</th>\n",
       "      <td>0.990802</td>\n",
       "      <td>0.091134</td>\n",
       "    </tr>\n",
       "    <tr>\n",
       "      <th>1</th>\n",
       "      <td>0.273229</td>\n",
       "      <td>0.163644</td>\n",
       "    </tr>\n",
       "    <tr>\n",
       "      <th>2</th>\n",
       "      <td>0.760908</td>\n",
       "      <td>0.917325</td>\n",
       "    </tr>\n",
       "    <tr>\n",
       "      <th>3</th>\n",
       "      <td>0.736972</td>\n",
       "      <td>0.337696</td>\n",
       "    </tr>\n",
       "    <tr>\n",
       "      <th>4</th>\n",
       "      <td>0.093291</td>\n",
       "      <td>0.648397</td>\n",
       "    </tr>\n",
       "  </tbody>\n",
       "</table>\n",
       "</div>"
      ],
      "text/plain": [
       "          x         y\n",
       "0  0.990802  0.091134\n",
       "1  0.273229  0.163644\n",
       "2  0.760908  0.917325\n",
       "3  0.736972  0.337696\n",
       "4  0.093291  0.648397"
      ]
     },
     "metadata": {},
     "output_type": "display_data"
    }
   ],
   "source": [
    "%%showsql\n",
    "select\n",
    "    random() as x,\n",
    "    random() as y\n",
    "from\n",
    "    generate_series(1, 5);"
   ]
  },
  {
   "cell_type": "markdown",
   "metadata": {},
   "source": [
    "You can use the `execsql` magic command we define above for DDL commands"
   ]
  },
  {
   "cell_type": "code",
   "execution_count": 6,
   "metadata": {},
   "outputs": [
    {
     "name": "stdout",
     "output_type": "stream",
     "text": [
      "CPU times: user 4 ms, sys: 0 ns, total: 4 ms\n",
      "Wall time: 7.41 ms\n"
     ]
    }
   ],
   "source": [
    "%%time\n",
    "%%execsql\n",
    "drop table if exists test"
   ]
  },
  {
   "cell_type": "code",
   "execution_count": 7,
   "metadata": {},
   "outputs": [
    {
     "name": "stdout",
     "output_type": "stream",
     "text": [
      "CPU times: user 0 ns, sys: 0 ns, total: 0 ns\n",
      "Wall time: 20.2 ms\n"
     ]
    }
   ],
   "source": [
    "%%time\n",
    "%%execsql\n",
    "create table test\n",
    "as\n",
    "(\n",
    "    select\n",
    "        random() as x,\n",
    "        random() as y\n",
    "    from\n",
    "        generate_series(1, 5)\n",
    ")"
   ]
  },
  {
   "cell_type": "markdown",
   "metadata": {},
   "source": [
    "Alternatively you could also use `pandas.io.sql` commands fetch the results of a DML into dataframe or issue DDLs"
   ]
  },
  {
   "cell_type": "code",
   "execution_count": 8,
   "metadata": {},
   "outputs": [
    {
     "data": {
      "text/html": [
       "<div>\n",
       "<style>\n",
       "    .dataframe thead tr:only-child th {\n",
       "        text-align: right;\n",
       "    }\n",
       "\n",
       "    .dataframe thead th {\n",
       "        text-align: left;\n",
       "    }\n",
       "\n",
       "    .dataframe tbody tr th {\n",
       "        vertical-align: top;\n",
       "    }\n",
       "</style>\n",
       "<table border=\"1\" class=\"dataframe\">\n",
       "  <thead>\n",
       "    <tr style=\"text-align: right;\">\n",
       "      <th></th>\n",
       "      <th>x</th>\n",
       "      <th>y</th>\n",
       "    </tr>\n",
       "  </thead>\n",
       "  <tbody>\n",
       "    <tr>\n",
       "      <th>0</th>\n",
       "      <td>0.705604</td>\n",
       "      <td>0.495641</td>\n",
       "    </tr>\n",
       "    <tr>\n",
       "      <th>1</th>\n",
       "      <td>0.682594</td>\n",
       "      <td>0.642367</td>\n",
       "    </tr>\n",
       "    <tr>\n",
       "      <th>2</th>\n",
       "      <td>0.417824</td>\n",
       "      <td>0.566930</td>\n",
       "    </tr>\n",
       "    <tr>\n",
       "      <th>3</th>\n",
       "      <td>0.757868</td>\n",
       "      <td>0.845950</td>\n",
       "    </tr>\n",
       "    <tr>\n",
       "      <th>4</th>\n",
       "      <td>0.567630</td>\n",
       "      <td>0.254606</td>\n",
       "    </tr>\n",
       "  </tbody>\n",
       "</table>\n",
       "</div>"
      ],
      "text/plain": [
       "          x         y\n",
       "0  0.705604  0.495641\n",
       "1  0.682594  0.642367\n",
       "2  0.417824  0.566930\n",
       "3  0.757868  0.845950\n",
       "4  0.567630  0.254606"
      ]
     },
     "metadata": {},
     "output_type": "display_data"
    },
    {
     "name": "stdout",
     "output_type": "stream",
     "text": [
      "CPU times: user 8 ms, sys: 0 ns, total: 8 ms\n",
      "Wall time: 14.4 ms\n"
     ]
    }
   ],
   "source": [
    "%%time\n",
    "df = psql.read_sql(\n",
    "        \"\"\"\n",
    "            select \n",
    "                random() as x, \n",
    "                random() as y \n",
    "            from \n",
    "                generate_series(1, 10) q\n",
    "        \"\"\", \n",
    "        conn\n",
    "    )\n",
    "display(df.head())"
   ]
  },
  {
   "cell_type": "code",
   "execution_count": 9,
   "metadata": {},
   "outputs": [
    {
     "name": "stdout",
     "output_type": "stream",
     "text": [
      "CPU times: user 0 ns, sys: 0 ns, total: 0 ns\n",
      "Wall time: 12.5 ms\n"
     ]
    }
   ],
   "source": [
    "%%time\n",
    "ctas_sql = \"\"\"\n",
    "            create table test\n",
    "            as\n",
    "            (\n",
    "                select \n",
    "                    random() as x, \n",
    "                    random() as y \n",
    "                from \n",
    "                    generate_series(1, 10) q\n",
    "            )\n",
    "            \"\"\"\n",
    "conn.cursor().execute(\"\"\"drop table if exists test\"\"\")\n",
    "conn.commit()\n",
    "conn.cursor().execute(ctas_sql)\n",
    "conn.commit()"
   ]
  }
 ],
 "metadata": {
  "kernelspec": {
   "display_name": "Python 3",
   "language": "python",
   "name": "python3"
  },
  "language_info": {
   "codemirror_mode": {
    "name": "ipython",
    "version": 3
   },
   "file_extension": ".py",
   "mimetype": "text/x-python",
   "name": "python",
   "nbconvert_exporter": "python",
   "pygments_lexer": "ipython3",
   "version": "3.6.2"
  }
 },
 "nbformat": 4,
 "nbformat_minor": 1
}
