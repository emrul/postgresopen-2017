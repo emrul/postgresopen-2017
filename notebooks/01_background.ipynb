{
 "cells": [
  {
   "cell_type": "markdown",
   "metadata": {},
   "source": [
    "### Setup database connectivity"
   ]
  },
  {
   "cell_type": "markdown",
   "metadata": {},
   "source": [
    "We'll reuse our module from the previous notebook (***`00_database_connectivity_setup.ipynb`***) to establish connectivity to the database"
   ]
  },
  {
   "cell_type": "code",
   "execution_count": 1,
   "metadata": {},
   "outputs": [],
   "source": [
    "%run '00_database_connectivity_setup.ipynb'\n",
    "IPython.display.clear_output()"
   ]
  },
  {
   "cell_type": "markdown",
   "metadata": {},
   "source": [
    "### About Me "
   ]
  },
  {
   "cell_type": "markdown",
   "metadata": {},
   "source": [
    "![About Me](https://github.com/vatsan/postgresopen-2017/blob/master/docs/images/about_me.png?raw=true)"
   ]
  },
  {
   "cell_type": "markdown",
   "metadata": {},
   "source": [
    "### In database machine learning"
   ]
  },
  {
   "cell_type": "markdown",
   "metadata": {},
   "source": [
    "Postgres and it's open source MPP extensions like [Greenplum](http://greenplum.org/) have strong analytical capabilities that make them well suited for data science problems at massive scale. Using in-database machine learning libraries like [Apache MADlib](http://madlib.apache.org/) and procedural languages like [PL/Python](https://www.postgresql.org/docs/9.6/static/plpython.html) and PL/R([1](http://www.joeconway.com/plr/),[2](http://pivotalsoftware.github.io/gp-r/)) which enable data scientists to harness the vast ecosystem of machine learning libraries in Python and R, data scientists can build models on massive datasets. In parallelizing machine learning models, there are two flavors of problems that one encounters:\n",
    "\n",
    "1. Embarassingly parallel problems or data parallel problems.\n",
    "2. Model parallel problems and task parallelism"
   ]
  },
  {
   "cell_type": "markdown",
   "metadata": {},
   "source": [
    "### Data parallel problems"
   ]
  },
  {
   "cell_type": "markdown",
   "metadata": {},
   "source": [
    "Data-parallel problems are those that typically involve building the same machine learning model on different subsets of the full-dataset or for instance, running a grid-search on model parameters, using the same input dataset. These are relatively easy to parallelize on MPP variants of postgres like [Greenplum](http://greenplum.org/) using User Defined Functions (UDFs) in PL/Python, PL/R or any other procedural languages supported by these platforms. \n",
    "\n",
    "We'll show a couple of difference approaches of harnessing data science libraries in the PyData stack in [02_in_database_ml_with_plpython](02_in_database_ml_with_plpython.ipynb)"
   ]
  },
  {
   "cell_type": "markdown",
   "metadata": {},
   "source": [
    "### Model parallel problems"
   ]
  },
  {
   "cell_type": "markdown",
   "metadata": {},
   "source": [
    "Model parallel problems or task parallel problems typically involve building a machine learning model on a dataset that cannot fit into memory, on a distributed cluster. The [Apache MADlib](http://madlib.apache.org/) library explicitly parallelizes such models by splitting them into sub-tasks that can be simultaneously executed on multiple nodes of a cluster and combining the results from these sub-tasks to fit the original model.\n",
    "\n",
    "[Apache MADlib](http://madlib.apache.org/) has a very rich collection of machine learning algorithms implemented in-database and is highly performant on large scale datasets. Often though, data scientists would love to tap into the vast ocean of machine learning models in other open source projects in Python or R. For instance, scikit-learn is a popular library of machine learning algorithms in Python, likewise, there are too many libraries to name in R. Being able to tap into these libraries when the model of choice is not available in  [Apache MADlib](http://madlib.apache.org/), would greatly increase the productivity of data scientists.\n",
    "\n",
    "We'll show a quick example of [Apache MADlib](http://madlib.apache.org/) in action in [03_in_database_ml_with_apache_MADlib](03_in_database_ml_with_apache_MADlib.ipynb)"
   ]
  }
 ],
 "metadata": {
  "kernelspec": {
   "display_name": "Python 3",
   "language": "python",
   "name": "python3"
  },
  "language_info": {
   "codemirror_mode": {
    "name": "ipython",
    "version": 3
   },
   "file_extension": ".py",
   "mimetype": "text/x-python",
   "name": "python",
   "nbconvert_exporter": "python",
   "pygments_lexer": "ipython3",
   "version": "3.6.2"
  }
 },
 "nbformat": 4,
 "nbformat_minor": 1
}
