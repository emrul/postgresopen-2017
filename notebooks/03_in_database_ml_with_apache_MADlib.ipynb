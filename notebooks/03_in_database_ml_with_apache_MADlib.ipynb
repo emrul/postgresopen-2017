{
 "cells": [
  {
   "cell_type": "markdown",
   "metadata": {},
   "source": [
    "### Setup database connectivity"
   ]
  },
  {
   "cell_type": "markdown",
   "metadata": {},
   "source": [
    "We'll reuse our module from the previous notebook (***`00_database_connectivity_setup.ipynb`***) to establish connectivity to the database"
   ]
  },
  {
   "cell_type": "code",
   "execution_count": 1,
   "metadata": {},
   "outputs": [],
   "source": [
    "%run '00_database_connectivity_setup.ipynb'\n",
    "IPython.display.clear_output()"
   ]
  },
  {
   "cell_type": "markdown",
   "metadata": {},
   "source": [
    "### Apache MADlib"
   ]
  },
  {
   "cell_type": "markdown",
   "metadata": {
    "collapsed": true
   },
   "source": [
    "Model parallel problems or task parallel problems typically involve building a machine learning model on a dataset that cannot fit into memory, on a distributed cluster. The [Apache MADlib](http://madlib.apache.org/) project explicitly parallelizes such models by splitting them into sub-tasks that can be simultaneously executed on multiple nodes of a cluster and combining the results from these sub-tasks to fit the original model.\n",
    "\n",
    "MADlib has a very rich collection of machine learning algorithms implemented in-database and is highly performant on large scale datasets."
   ]
  },
  {
   "cell_type": "markdown",
   "metadata": {},
   "source": [
    "![Apache MADlib](https://github.com/vatsan/postgresopen-2017/blob/master/docs/images/madlib_1.png?raw=true)"
   ]
  },
  {
   "cell_type": "markdown",
   "metadata": {},
   "source": [
    "### Breadth of algorithms"
   ]
  },
  {
   "cell_type": "markdown",
   "metadata": {},
   "source": [
    "![Apache MADlib User Guide](https://github.com/vatsan/postgresopen-2017/blob/master/docs/images/madlib_2.png?raw=true)"
   ]
  },
  {
   "cell_type": "markdown",
   "metadata": {},
   "source": [
    "### Architecture"
   ]
  },
  {
   "cell_type": "markdown",
   "metadata": {},
   "source": [
    "![Apache MADlib Architecture](https://github.com/vatsan/postgresopen-2017/blob/master/docs/images/madlib_3.png?raw=true)"
   ]
  },
  {
   "cell_type": "markdown",
   "metadata": {},
   "source": [
    "### Ridge Regression - Demo"
   ]
  },
  {
   "cell_type": "code",
   "execution_count": 2,
   "metadata": {},
   "outputs": [
    {
     "name": "stdout",
     "output_type": "stream",
     "text": [
      "CPU times: user 0 ns, sys: 0 ns, total: 0 ns\n",
      "Wall time: 8.8 ms\n"
     ]
    }
   ],
   "source": [
    "%%time\n",
    "%%execsql\n",
    "drop table if exists wine_sample_madlib;\n",
    "create table wine_sample_madlib\n",
    "as\n",
    "(\n",
    "    select\n",
    "        id,\n",
    "        ARRAY[\n",
    "            fixed_acidity,\n",
    "            volatile_acidity,\n",
    "            citric_acid,\n",
    "            residual_sugar,\n",
    "            chlorides,\n",
    "            free_sulfur_dioxide,\n",
    "            total_sulfur_dioxide,\n",
    "            density,\n",
    "            ph,\n",
    "            sulphates,\n",
    "            alcohol\n",
    "        ] as features,\n",
    "        quality\n",
    "    from\n",
    "        wine_sample\n",
    ")"
   ]
  },
  {
   "cell_type": "code",
   "execution_count": 3,
   "metadata": {},
   "outputs": [
    {
     "name": "stdout",
     "output_type": "stream",
     "text": [
      "CPU times: user 0 ns, sys: 0 ns, total: 0 ns\n",
      "Wall time: 627 ms\n"
     ]
    }
   ],
   "source": [
    "%%time\n",
    "%%execsql\n",
    "drop table if exists wine_sample_madlib_mdl, wine_sample_madlib_mdl_summary;\n",
    "select \n",
    "    madlib.elastic_net_train(\n",
    "        -- Source table\n",
    "        'wine_sample_madlib',\n",
    "        -- Result table\n",
    "        'wine_sample_madlib_mdl', \n",
    "        -- Dependent variable\n",
    "        'quality',                 \n",
    "        -- Independent variable\n",
    "        'features',\n",
    "        -- Regression family\n",
    "        'gaussian',             \n",
    "        -- Alpha value\n",
    "        0.5,           \n",
    "        -- Lambda value\n",
    "        0.1,          \n",
    "        -- Standardize\n",
    "        TRUE,\n",
    "        -- Grouping column(s)\n",
    "        NULL,         \n",
    "        -- Optimizer\n",
    "        'fista',     \n",
    "        -- Optimizer parameters\n",
    "        '',   \n",
    "        -- Excluded columns\n",
    "        NULL,        \n",
    "        -- Maximum iterations\n",
    "        10000,     \n",
    "        -- Tolerance value\n",
    "        1e-6                       \n",
    "    );"
   ]
  },
  {
   "cell_type": "code",
   "execution_count": 4,
   "metadata": {},
   "outputs": [
    {
     "data": {
      "text/html": [
       "<div>\n",
       "<style>\n",
       "    .dataframe thead tr:only-child th {\n",
       "        text-align: right;\n",
       "    }\n",
       "\n",
       "    .dataframe thead th {\n",
       "        text-align: left;\n",
       "    }\n",
       "\n",
       "    .dataframe tbody tr th {\n",
       "        vertical-align: top;\n",
       "    }\n",
       "</style>\n",
       "<table border=\"1\" class=\"dataframe\">\n",
       "  <thead>\n",
       "    <tr style=\"text-align: right;\">\n",
       "      <th></th>\n",
       "      <th>family</th>\n",
       "      <th>features</th>\n",
       "      <th>features_selected</th>\n",
       "      <th>coef_nonzero</th>\n",
       "      <th>coef_all</th>\n",
       "      <th>intercept</th>\n",
       "      <th>log_likelihood</th>\n",
       "      <th>standardize</th>\n",
       "      <th>iteration_run</th>\n",
       "    </tr>\n",
       "  </thead>\n",
       "  <tbody>\n",
       "    <tr>\n",
       "      <th>0</th>\n",
       "      <td>gaussian</td>\n",
       "      <td>[features[1], features[2], features[3], features[4], features[5], features[6], features[7], features[8], features[9], features[10], features[11]]</td>\n",
       "      <td>[features[1], features[2], features[5], features[7], features[10], features[11]]</td>\n",
       "      <td>[0.00213245063091, -0.985673014513, -0.273021090308, -0.000964230457507, 0.489861692677, 0.251937832341]</td>\n",
       "      <td>[0.00213245063091, -0.985673014513, 0.0, 0.0, -0.273021090308, 0.0, -0.000964230457507, 0.0, 0.0, 0.489861692677, 0.251937832341]</td>\n",
       "      <td>3.25888</td>\n",
       "      <td>-0.249234</td>\n",
       "      <td>True</td>\n",
       "      <td>64</td>\n",
       "    </tr>\n",
       "  </tbody>\n",
       "</table>\n",
       "</div>"
      ],
      "text/plain": [
       "     family  \\\n",
       "0  gaussian   \n",
       "\n",
       "                                                                                                                                            features  \\\n",
       "0  [features[1], features[2], features[3], features[4], features[5], features[6], features[7], features[8], features[9], features[10], features[11]]   \n",
       "\n",
       "                                                                  features_selected  \\\n",
       "0  [features[1], features[2], features[5], features[7], features[10], features[11]]   \n",
       "\n",
       "                                                                                               coef_nonzero  \\\n",
       "0  [0.00213245063091, -0.985673014513, -0.273021090308, -0.000964230457507, 0.489861692677, 0.251937832341]   \n",
       "\n",
       "                                                                                                                            coef_all  \\\n",
       "0  [0.00213245063091, -0.985673014513, 0.0, 0.0, -0.273021090308, 0.0, -0.000964230457507, 0.0, 0.0, 0.489861692677, 0.251937832341]   \n",
       "\n",
       "   intercept  log_likelihood  standardize  iteration_run  \n",
       "0  3.25888   -0.249234        True         64             "
      ]
     },
     "metadata": {},
     "output_type": "display_data"
    },
    {
     "name": "stdout",
     "output_type": "stream",
     "text": [
      "CPU times: user 8 ms, sys: 4 ms, total: 12 ms\n",
      "Wall time: 32.8 ms\n"
     ]
    }
   ],
   "source": [
    "%%time\n",
    "%%showsql\n",
    "select\n",
    "    *\n",
    "from\n",
    "    wine_sample_madlib_mdl;"
   ]
  },
  {
   "cell_type": "markdown",
   "metadata": {},
   "source": [
    "### Learn More"
   ]
  },
  {
   "cell_type": "markdown",
   "metadata": {},
   "source": [
    "More example available here: [Apache MADlib Community Artifacts](https://github.com/apache/madlib-site/tree/asf-site/community-artifacts)"
   ]
  }
 ],
 "metadata": {
  "kernelspec": {
   "display_name": "Python 3",
   "language": "python",
   "name": "python3"
  },
  "language_info": {
   "codemirror_mode": {
    "name": "ipython",
    "version": 3
   },
   "file_extension": ".py",
   "mimetype": "text/x-python",
   "name": "python",
   "nbconvert_exporter": "python",
   "pygments_lexer": "ipython3",
   "version": "3.6.2"
  }
 },
 "nbformat": 4,
 "nbformat_minor": 1
}
